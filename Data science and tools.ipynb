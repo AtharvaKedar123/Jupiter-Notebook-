{
 "cells": [
  {
   "cell_type": "markdown",
   "id": "7a9a28e9-3815-4545-bc91-1b2da2868728",
   "metadata": {},
   "source": [
    "# Data Science And Tools"
   ]
  },
  {
   "cell_type": "markdown",
   "id": "64f5bd7c-1cc1-452e-aab0-b947550fd120",
   "metadata": {},
   "source": [
    "Some of the important Data Science languages are :\n",
    "1. Python\n",
    "2. R\n",
    "3. C++\n",
    "4. Java\n",
    "5. SQL"
   ]
  },
  {
   "cell_type": "markdown",
   "id": "1b7799f4-fab7-4d28-92d3-61ae4e6802ca",
   "metadata": {},
   "source": [
    "Some of the widely used libraries in Data science are :\n",
    "1. Keras\n",
    "2. TensorFlow\n",
    "3. Pandas\n",
    "4. Scikit-learn\n",
    "5. Matplotlib"
   ]
  },
  {
   "cell_type": "markdown",
   "id": "5d3e79bc-5e62-45fd-8f33-6e5cf7c4076a",
   "metadata": {},
   "source": [
    "Some widely used open source tools in Data science are :\n",
    "1. KNIME\n",
    "2. BigML\n",
    "3. Apache spark\n",
    "4. Snowflake"
   ]
  },
  {
   "cell_type": "markdown",
   "id": "3836eb26-7bd2-4f0c-bc9d-e915db6b73ed",
   "metadata": {},
   "source": [
    "Some of the arithmetic examples are :"
   ]
  },
  {
   "cell_type": "code",
   "execution_count": 1,
   "id": "957080b7-4cb9-4f06-972f-80847a48b8ae",
   "metadata": {
    "tags": []
   },
   "outputs": [
    {
     "data": {
      "text/plain": [
       "59"
      ]
     },
     "execution_count": 1,
     "metadata": {},
     "output_type": "execute_result"
    }
   ],
   "source": [
    "#multiplication and addition of integers :\n",
    "(9*6)+5"
   ]
  },
  {
   "cell_type": "code",
   "execution_count": 2,
   "id": "5b1b1606-d434-4de3-9a9b-d052b356a659",
   "metadata": {
    "tags": []
   },
   "outputs": [
    {
     "data": {
      "text/plain": [
       "300"
      ]
     },
     "execution_count": 2,
     "metadata": {},
     "output_type": "execute_result"
    }
   ],
   "source": [
    "#convert 5 Hours into Minutes:\n",
    "5*60\n"
   ]
  },
  {
   "cell_type": "markdown",
   "id": "13f74ffe-ad4d-4492-af07-12cf6916b5f6",
   "metadata": {},
   "source": [
    "# Objectives"
   ]
  },
  {
   "cell_type": "markdown",
   "id": "13d9faa7-62bc-4590-8b5e-fa9a2fd69f3f",
   "metadata": {},
   "source": [
    "1. Important data science languages\n",
    "2. Widely used data science libraries\n",
    "3. Widely used tools in data science\n",
    "4. Multiplication and addition of integers\n",
    "5. Convert 5 hours into Minutes"
   ]
  },
  {
   "cell_type": "markdown",
   "id": "4b5603a2-36f2-45e6-860d-78e08b68a4fe",
   "metadata": {},
   "source": [
    "# Author"
   ]
  },
  {
   "cell_type": "markdown",
   "id": "2bd22c3d-1796-49f4-a6a7-1350cbf1dc3e",
   "metadata": {},
   "source": [
    "Atharva Kedar"
   ]
  }
 ],
 "metadata": {
  "kernelspec": {
   "display_name": "Python",
   "language": "python",
   "name": "conda-env-python-py"
  },
  "language_info": {
   "codemirror_mode": {
    "name": "ipython",
    "version": 3
   },
   "file_extension": ".py",
   "mimetype": "text/x-python",
   "name": "python",
   "nbconvert_exporter": "python",
   "pygments_lexer": "ipython3",
   "version": "3.7.12"
  }
 },
 "nbformat": 4,
 "nbformat_minor": 5
}
